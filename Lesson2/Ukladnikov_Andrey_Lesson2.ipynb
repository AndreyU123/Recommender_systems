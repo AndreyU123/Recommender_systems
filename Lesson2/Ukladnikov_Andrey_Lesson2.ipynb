{
 "cells": [
  {
   "cell_type": "code",
   "execution_count": 1,
   "metadata": {},
   "outputs": [],
   "source": [
    "import pandas as pd\n",
    "import numpy as np\n",
    "import matplotlib.pyplot as plt\n",
    "%matplotlib inline\n",
    "\n",
    "# Для работы с матрицами\n",
    "from scipy.sparse import csr_matrix, coo_matrix\n",
    "\n",
    "# Детерминированные алгоритмы\n",
    "from implicit.nearest_neighbours import ItemItemRecommender, CosineRecommender, TFIDFRecommender, BM25Recommender\n",
    "\n",
    "# Метрики\n",
    "from implicit.evaluation import train_test_split\n",
    "from implicit.evaluation import precision_at_k, mean_average_precision_at_k, AUC_at_k, ndcg_at_k"
   ]
  },
  {
   "cell_type": "code",
   "execution_count": 2,
   "metadata": {},
   "outputs": [
    {
     "data": {
      "text/html": [
       "<div>\n",
       "<style scoped>\n",
       "    .dataframe tbody tr th:only-of-type {\n",
       "        vertical-align: middle;\n",
       "    }\n",
       "\n",
       "    .dataframe tbody tr th {\n",
       "        vertical-align: top;\n",
       "    }\n",
       "\n",
       "    .dataframe thead th {\n",
       "        text-align: right;\n",
       "    }\n",
       "</style>\n",
       "<table border=\"1\" class=\"dataframe\">\n",
       "  <thead>\n",
       "    <tr style=\"text-align: right;\">\n",
       "      <th></th>\n",
       "      <th>user_id</th>\n",
       "      <th>basket_id</th>\n",
       "      <th>day</th>\n",
       "      <th>item_id</th>\n",
       "      <th>quantity</th>\n",
       "      <th>sales_value</th>\n",
       "      <th>store_id</th>\n",
       "      <th>retail_disc</th>\n",
       "      <th>trans_time</th>\n",
       "      <th>week_no</th>\n",
       "      <th>coupon_disc</th>\n",
       "      <th>coupon_match_disc</th>\n",
       "    </tr>\n",
       "  </thead>\n",
       "  <tbody>\n",
       "    <tr>\n",
       "      <th>0</th>\n",
       "      <td>2375</td>\n",
       "      <td>26984851472</td>\n",
       "      <td>1</td>\n",
       "      <td>1004906</td>\n",
       "      <td>1</td>\n",
       "      <td>1.39</td>\n",
       "      <td>364</td>\n",
       "      <td>-0.6</td>\n",
       "      <td>1631</td>\n",
       "      <td>1</td>\n",
       "      <td>0.0</td>\n",
       "      <td>0.0</td>\n",
       "    </tr>\n",
       "    <tr>\n",
       "      <th>1</th>\n",
       "      <td>2375</td>\n",
       "      <td>26984851472</td>\n",
       "      <td>1</td>\n",
       "      <td>1033142</td>\n",
       "      <td>1</td>\n",
       "      <td>0.82</td>\n",
       "      <td>364</td>\n",
       "      <td>0.0</td>\n",
       "      <td>1631</td>\n",
       "      <td>1</td>\n",
       "      <td>0.0</td>\n",
       "      <td>0.0</td>\n",
       "    </tr>\n",
       "  </tbody>\n",
       "</table>\n",
       "</div>"
      ],
      "text/plain": [
       "   user_id    basket_id  day  item_id  quantity  sales_value  store_id  \\\n",
       "0     2375  26984851472    1  1004906         1         1.39       364   \n",
       "1     2375  26984851472    1  1033142         1         0.82       364   \n",
       "\n",
       "   retail_disc  trans_time  week_no  coupon_disc  coupon_match_disc  \n",
       "0         -0.6        1631        1          0.0                0.0  \n",
       "1          0.0        1631        1          0.0                0.0  "
      ]
     },
     "execution_count": 2,
     "metadata": {},
     "output_type": "execute_result"
    }
   ],
   "source": [
    "data = pd.read_csv('data/retail_train.csv')\n",
    "data.head(2)"
   ]
  },
  {
   "cell_type": "code",
   "execution_count": 3,
   "metadata": {},
   "outputs": [],
   "source": [
    "test_size_weeks = 3\n",
    "\n",
    "data_train = data[data['week_no'] < data['week_no'].max() - test_size_weeks]\n",
    "data_test = data[data['week_no'] >= data['week_no'].max() - test_size_weeks]"
   ]
  },
  {
   "cell_type": "markdown",
   "metadata": {},
   "source": [
    "### Задание 1. Weighted Random Recommendation\n",
    "\n",
    "Напишите код для случайных рекоммендаций, в которых вероятность рекомендовать товар прямо пропорциональна логарифму продаж\n",
    "- Можно сэмплировать товары случайно, но пропорционально какому-либо весу\n",
    "- Например, прямопропорционально популярности. Вес = log(sales_sum товара)"
   ]
  },
  {
   "cell_type": "code",
   "execution_count": 4,
   "metadata": {},
   "outputs": [],
   "source": [
    "def weighted_random_recommendation(items_probabilities, n=5):\n",
    "    \"\"\"Случайные рекоммендации\n",
    "    \n",
    "    Input\n",
    "    -----\n",
    "    items_probabilities: pd.DataFrame\n",
    "        Датафрейм со столбцами item_id, probability. Сумма probability по всем товарам = 1\n",
    "    \"\"\"\n",
    "    \n",
    "    # Подсказка: необходимо модифицировать функцию random_recommendation()+документация по np.random.choice\n",
    "    item_ids = np.array(items_probabilities['item_id'])\n",
    "    probabilities = np.array(items_probabilities['probability'])\n",
    "\n",
    "    recs = np.random.choice(item_ids, size=n, replace=False,p=probabilities.tolist())\n",
    "\n",
    "    return recs.tolist()\n",
    "    \n",
    "    "
   ]
  },
  {
   "cell_type": "code",
   "execution_count": 5,
   "metadata": {},
   "outputs": [
    {
     "name": "stdout",
     "output_type": "stream",
     "text": [
      "   user_id                                             actual  \\\n",
      "0        1  [821867, 834484, 856942, 865456, 889248, 90795...   \n",
      "1        3  [835476, 851057, 872021, 878302, 879948, 90963...   \n",
      "\n",
      "                   weighted_random_recommendation  \n",
      "0     [948225, 15716267, 9676948, 659252, 896749]  \n",
      "1  [12171326, 949116, 1121410, 1076861, 17104566]  \n",
      "Wall time: 11.6 s\n"
     ]
    }
   ],
   "source": [
    "%%time\n",
    "\n",
    "items_probabilities = (np.log1p(data_train.groupby('item_id')['sales_value'].sum())/np.log1p(data_train.groupby('item_id')['sales_value'].sum()).sum()).reset_index()\n",
    "items_probabilities.columns=['item_id', 'probability']\n",
    "\n",
    "result = data_test.groupby('user_id')['item_id'].unique().reset_index()\n",
    "result.columns=['user_id', 'actual']\n",
    "\n",
    "result['weighted_random_recommendation'] = result['user_id'].apply(lambda x: weighted_random_recommendation(items_probabilities, n=5))\n",
    "print(result.head(2))"
   ]
  },
  {
   "cell_type": "markdown",
   "metadata": {},
   "source": [
    "### Задание 2. Расчет метрик\n",
    "Рассчитайте Precision@5 для каждого алгоритма с помощью функции из вебинара 1. Какой алгоритм показывает лучшее качество?"
   ]
  },
  {
   "cell_type": "code",
   "execution_count": 195,
   "metadata": {},
   "outputs": [
    {
     "data": {
      "text/html": [
       "<div>\n",
       "<style scoped>\n",
       "    .dataframe tbody tr th:only-of-type {\n",
       "        vertical-align: middle;\n",
       "    }\n",
       "\n",
       "    .dataframe tbody tr th {\n",
       "        vertical-align: top;\n",
       "    }\n",
       "\n",
       "    .dataframe thead th {\n",
       "        text-align: right;\n",
       "    }\n",
       "</style>\n",
       "<table border=\"1\" class=\"dataframe\">\n",
       "  <thead>\n",
       "    <tr style=\"text-align: right;\">\n",
       "      <th></th>\n",
       "      <th>user_id</th>\n",
       "      <th>actual</th>\n",
       "      <th>random_recommendation</th>\n",
       "      <th>popular_recommendation</th>\n",
       "      <th>itemitem</th>\n",
       "      <th>cosine</th>\n",
       "      <th>tfidf</th>\n",
       "      <th>own_purchases</th>\n",
       "    </tr>\n",
       "  </thead>\n",
       "  <tbody>\n",
       "    <tr>\n",
       "      <th>0</th>\n",
       "      <td>1</td>\n",
       "      <td>[  821867   834484   856942   865456   889248 ...</td>\n",
       "      <td>[15600973, 13511608, 12352235, 8203629, 1006118]</td>\n",
       "      <td>[6534178, 6533889, 1029743, 6534166, 1082185]</td>\n",
       "      <td>[981760, 1127831, 1098066, 826249, 878996]</td>\n",
       "      <td>[981760, 1127831, 1098066, 878996, 826249]</td>\n",
       "      <td>[981760, 1127831, 1098066, 826249, 878996]</td>\n",
       "      <td>[999999, 1082185, 1029743, 995785, 1004906]</td>\n",
       "    </tr>\n",
       "    <tr>\n",
       "      <th>1</th>\n",
       "      <td>3</td>\n",
       "      <td>[  835476   851057   872021   878302   879948 ...</td>\n",
       "      <td>[16223285, 1021420, 1520542, 908299, 13986525]</td>\n",
       "      <td>[6534178, 6533889, 1029743, 6534166, 1082185]</td>\n",
       "      <td>[981760, 995242, 1029743, 840361, 961554]</td>\n",
       "      <td>[981760, 1004906, 961554, 1096036, 1080414]</td>\n",
       "      <td>[981760, 1004906, 859075, 1096036, 961554]</td>\n",
       "      <td>[999999, 1082185, 1098066, 6534178, 1127831]</td>\n",
       "    </tr>\n",
       "  </tbody>\n",
       "</table>\n",
       "</div>"
      ],
      "text/plain": [
       "   user_id                                             actual  \\\n",
       "0        1  [  821867   834484   856942   865456   889248 ...   \n",
       "1        3  [  835476   851057   872021   878302   879948 ...   \n",
       "\n",
       "                              random_recommendation  \\\n",
       "0  [15600973, 13511608, 12352235, 8203629, 1006118]   \n",
       "1    [16223285, 1021420, 1520542, 908299, 13986525]   \n",
       "\n",
       "                          popular_recommendation  \\\n",
       "0  [6534178, 6533889, 1029743, 6534166, 1082185]   \n",
       "1  [6534178, 6533889, 1029743, 6534166, 1082185]   \n",
       "\n",
       "                                     itemitem  \\\n",
       "0  [981760, 1127831, 1098066, 826249, 878996]   \n",
       "1   [981760, 995242, 1029743, 840361, 961554]   \n",
       "\n",
       "                                        cosine  \\\n",
       "0   [981760, 1127831, 1098066, 878996, 826249]   \n",
       "1  [981760, 1004906, 961554, 1096036, 1080414]   \n",
       "\n",
       "                                        tfidf  \\\n",
       "0  [981760, 1127831, 1098066, 826249, 878996]   \n",
       "1  [981760, 1004906, 859075, 1096036, 961554]   \n",
       "\n",
       "                                  own_purchases  \n",
       "0   [999999, 1082185, 1029743, 995785, 1004906]  \n",
       "1  [999999, 1082185, 1098066, 6534178, 1127831]  "
      ]
     },
     "execution_count": 195,
     "metadata": {},
     "output_type": "execute_result"
    }
   ],
   "source": [
    "result = pd.read_csv('data/predictions_basic.csv')\n",
    "result.head(2)"
   ]
  },
  {
   "cell_type": "code",
   "execution_count": 201,
   "metadata": {},
   "outputs": [
    {
     "data": {
      "text/plain": [
       "(2042, 14)"
      ]
     },
     "execution_count": 201,
     "metadata": {},
     "output_type": "execute_result"
    }
   ],
   "source": [
    "result.shape"
   ]
  },
  {
   "cell_type": "code",
   "execution_count": 196,
   "metadata": {},
   "outputs": [],
   "source": [
    "def precision_at_k(recommended_list, bought_list, k=5):\n",
    "    \n",
    "    bought_list = np.array(bought_list)\n",
    "    recommended_list = np.array(recommended_list)\n",
    "    \n",
    "    bought_list = bought_list  # Тут нет [:k] !!\n",
    "    recommended_list = recommended_list[:k]\n",
    "    \n",
    "    flags = np.isin(bought_list, recommended_list)\n",
    "    \n",
    "    precision = flags.sum() / len(recommended_list)\n",
    "    \n",
    "    \n",
    "    return precision"
   ]
  },
  {
   "cell_type": "code",
   "execution_count": 197,
   "metadata": {},
   "outputs": [
    {
     "data": {
      "text/plain": [
       "array(['[  821867   834484   856942   865456   889248   907957   914190   943316\\n   951954   954486   958046   962568   969231   971585   979707   986947\\n   990656   995242  1004906  1005186  1042083  1050310  1060819  1062002\\n  1064441  1069733  1074612  1082185  1131115  1132771  6534544 13876341\\n 15971874 17178953   883616   917704   931860   961554  1002032  1031190\\n  8090541  8293439  9297615  9527329 15926712  1049998   861272   869465\\n   877373   908213   933913   940947   945809   959316   978974  1031697\\n  1041796  1048918  1081189  1101422  1115576  1122428  1132231  1132814\\n  5577022  8091601  9296986  9677939 10356149 13417048 15741823 15830875]'],\n",
       "      dtype=object)"
      ]
     },
     "execution_count": 197,
     "metadata": {},
     "output_type": "execute_result"
    }
   ],
   "source": [
    "#пример bought_list для  пользователя с user_id==1\n",
    "np.array(result[result['user_id']==1]['actual'])"
   ]
  },
  {
   "cell_type": "code",
   "execution_count": 198,
   "metadata": {},
   "outputs": [
    {
     "name": "stdout",
     "output_type": "stream",
     "text": [
      "для пользователя с user_id==1 random_recommendation precision_at_5= 0.0\n",
      "для пользователя с user_id==1 popular_recommendation precision_at_5= 0.0\n",
      "для пользователя с user_id==1 itemitem precision_at_5= 0.0\n",
      "для пользователя с user_id==1 cosine precision_at_5= 0.0\n",
      "для пользователя с user_id==1 tfidf precision_at_5= 0.0\n",
      "для пользователя с user_id==1 own_purchases precision_at_5= 0.0\n"
     ]
    }
   ],
   "source": [
    "#Precision@5 для 1 usera\n",
    "print('для пользователя с user_id==1 random_recommendation precision_at_5=',precision_at_k(result[result['user_id']==1]['random_recommendation'],result[result['user_id']==1]['actual'],5))\n",
    "print('для пользователя с user_id==1 popular_recommendation precision_at_5=',precision_at_k(result[result['user_id']==1]['popular_recommendation'],result[result['user_id']==1]['actual'],5))\n",
    "print('для пользователя с user_id==1 itemitem precision_at_5=',precision_at_k(result[result['user_id']==1]['itemitem'],result[result['user_id']==1]['actual'],5))\n",
    "print('для пользователя с user_id==1 cosine precision_at_5=',precision_at_k(result[result['user_id']==1]['cosine'],result[result['user_id']==1]['actual'],5))\n",
    "print('для пользователя с user_id==1 tfidf precision_at_5=',precision_at_k(result[result['user_id']==1]['tfidf'],result[result['user_id']==1]['actual'],5))\n",
    "print('для пользователя с user_id==1 own_purchases precision_at_5=',precision_at_k(result[result['user_id']==1]['own_purchases'],result[result['user_id']==1]['actual'],5))\n",
    "\n",
    "\n"
   ]
  },
  {
   "cell_type": "code",
   "execution_count": 199,
   "metadata": {},
   "outputs": [
    {
     "name": "stdout",
     "output_type": "stream",
     "text": [
      "precision_random_recommendation = 0.0\n",
      "precision_popular_recommendation = 0.0\n",
      "precision_itemitem = 0.0\n",
      "precision_cosine = 0.0\n",
      "precision_tfidf = 0.0\n",
      "precision_own_purchases = 0.0\n"
     ]
    }
   ],
   "source": [
    "#вычислим precision_at_k() для всех пользователей и усредним\n",
    "\n",
    "result['precision_random_recommendation'] = result['user_id'].apply(\n",
    "    lambda x: precision_at_k(result[result['user_id']==x]['random_recommendation'],result[result['user_id']==x]['actual'], k=5))\n",
    "\n",
    "result['precision_popular_recommendation'] = result['user_id'].apply(\n",
    "    lambda x: precision_at_k(result[result['user_id']==x]['popular_recommendation'],result[result['user_id']==x]['actual'], k=5))\n",
    "\n",
    "result['precision_itemitem'] = result['user_id'].apply(\n",
    "    lambda x: precision_at_k(result[result['user_id']==x]['itemitem'],result[result['user_id']==x]['actual'], k=5))\n",
    "\n",
    "result['precision_cosine'] = result['user_id'].apply(\n",
    "    lambda x: precision_at_k(result[result['user_id']==x]['cosine'],result[result['user_id']==x]['actual'], k=5))\n",
    "\n",
    "result['precision_tfidf'] = result['user_id'].apply(\n",
    "    lambda x: precision_at_k(result[result['user_id']==x]['tfidf'],result[result['user_id']==x]['actual'], k=5))\n",
    "\n",
    "result['precision_own_purchases'] = result['user_id'].apply(\n",
    "    lambda x: precision_at_k(result[result['user_id']==x]['own_purchases'],result[result['user_id']==x]['actual'], k=5))\n",
    "\n",
    "print('precision_random_recommendation =',result['precision_random_recommendation'].mean())\n",
    "print('precision_popular_recommendation =',result['precision_popular_recommendation'].mean())\n",
    "print('precision_itemitem =',result['precision_itemitem'].mean())\n",
    "print('precision_cosine =',result['precision_cosine'].mean())\n",
    "print('precision_tfidf =',result['precision_tfidf'].mean())\n",
    "print('precision_own_purchases =',result['precision_own_purchases'].mean())\n"
   ]
  },
  {
   "cell_type": "code",
   "execution_count": 203,
   "metadata": {},
   "outputs": [
    {
     "name": "stdout",
     "output_type": "stream",
     "text": [
      "для пользователя с user_id==3 popular_recommendation precision_at_5= 1.0\n",
      "precision_popular_recommendation = 0.0004897159647404506\n"
     ]
    }
   ],
   "source": [
    "# проверка себя -  для пользователя user_id==3 купленные товары==списку из popular_recommendation \n",
    "result.loc[result['user_id']==3,'actual']='[6534178, 6533889, 1029743, 6534166, 1082185]'\n",
    "\n",
    "print('для пользователя с user_id==3 popular_recommendation precision_at_5=',\n",
    "      precision_at_k(result[result['user_id']==3]['popular_recommendation'],result[result['user_id']==3]['actual'],5))\n",
    "\n",
    "result['precision_popular_recommendation'] = result['user_id'].apply(\n",
    "    lambda x: precision_at_k(result[result['user_id']==x]['popular_recommendation'],result[result['user_id']==x]['actual'], k=5))\n",
    "\n",
    "print('precision_popular_recommendation =',result['precision_popular_recommendation'].mean())"
   ]
  },
  {
   "cell_type": "markdown",
   "metadata": {},
   "source": [
    "### Задание 3*. Улучшение бейзлайнов и ItemItem\n",
    "\n",
    "- Попробуйте улучшить бейзлайны, считая их на топ- {2000, 5000, 10000} товаров. Постройте график зависимости precision@5 от топ-*\n",
    "- Попробуйте улучшить разные варианты ItemItemRecommender, выбирая число соседей $K$. Постройте график зависимости precision@5 от $K$ "
   ]
  },
  {
   "cell_type": "code",
   "execution_count": 8,
   "metadata": {},
   "outputs": [],
   "source": [
    "# your_code"
   ]
  }
 ],
 "metadata": {
  "kernelspec": {
   "display_name": "Python 3",
   "language": "python",
   "name": "python3"
  },
  "language_info": {
   "codemirror_mode": {
    "name": "ipython",
    "version": 3
   },
   "file_extension": ".py",
   "mimetype": "text/x-python",
   "name": "python",
   "nbconvert_exporter": "python",
   "pygments_lexer": "ipython3",
   "version": "3.8.5"
  }
 },
 "nbformat": 4,
 "nbformat_minor": 4
}
